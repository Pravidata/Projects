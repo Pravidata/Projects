{
 "cells": [
  {
   "cell_type": "code",
   "execution_count": 1,
   "metadata": {},
   "outputs": [],
   "source": [
    "import numpy as np\n",
    "import pandas as pd\n",
    "from sklearn.feature_selection import SelectKBest\n",
    "from sklearn.feature_selection import chi2"
   ]
  },
  {
   "cell_type": "code",
   "execution_count": 2,
   "metadata": {},
   "outputs": [],
   "source": [
    "df=pd.read_csv('train.csv')\n",
    "df_test=pd.read_csv('test.csv')\n",
    "\n",
    "X=df.iloc[:,:-1]\n",
    "X_Sub=df_test.iloc[:,:]\n",
    "y=df.iloc[:,-1]"
   ]
  },
  {
   "cell_type": "code",
   "execution_count": 4,
   "metadata": {},
   "outputs": [],
   "source": [
    "from sklearn.impute import SimpleImputer\n",
    "imp=SimpleImputer(missing_values=np.nan,strategy='most_frequent')\n",
    "X=imp.fit_transform(X)\n",
    "col=X_Sub.columns\n",
    "X=pd.DataFrame(X,columns=col)"
   ]
  },
  {
   "cell_type": "code",
   "execution_count": 5,
   "metadata": {},
   "outputs": [],
   "source": [
    "cat=['City_Code','Accomodation_Type','Reco_Insurance_Type','Is_Spouse','Health Indicator','Holding_Policy_Duration']\n",
    "num=[i for i in X.columns if i not in cat]"
   ]
  },
  {
   "cell_type": "code",
   "execution_count": 6,
   "metadata": {},
   "outputs": [],
   "source": [
    "X1=X.loc[:,cat]\n",
    "X2=X.loc[:,num]"
   ]
  },
  {
   "cell_type": "code",
   "execution_count": 7,
   "metadata": {},
   "outputs": [],
   "source": [
    "from sklearn.preprocessing import LabelEncoder\n",
    "le=LabelEncoder()\n",
    "X1=X1.apply(le.fit_transform)"
   ]
  },
  {
   "cell_type": "code",
   "execution_count": 9,
   "metadata": {},
   "outputs": [],
   "source": [
    "X=pd.concat([X1,X2],axis=1)"
   ]
  },
  {
   "cell_type": "code",
   "execution_count": 11,
   "metadata": {},
   "outputs": [
    {
     "name": "stdout",
     "output_type": "stream",
     "text": [
      "<class 'pandas.core.frame.DataFrame'>\n",
      "RangeIndex: 50882 entries, 0 to 50881\n",
      "Data columns (total 13 columns):\n",
      " #   Column                   Non-Null Count  Dtype \n",
      "---  ------                   --------------  ----- \n",
      " 0   City_Code                50882 non-null  int32 \n",
      " 1   Accomodation_Type        50882 non-null  int32 \n",
      " 2   Reco_Insurance_Type      50882 non-null  int32 \n",
      " 3   Is_Spouse                50882 non-null  int32 \n",
      " 4   Health Indicator         50882 non-null  int32 \n",
      " 5   Holding_Policy_Duration  50882 non-null  int32 \n",
      " 6   ID                       50882 non-null  object\n",
      " 7   Region_Code              50882 non-null  object\n",
      " 8   Upper_Age                50882 non-null  object\n",
      " 9   Lower_Age                50882 non-null  object\n",
      " 10  Holding_Policy_Type      50882 non-null  object\n",
      " 11  Reco_Policy_Cat          50882 non-null  object\n",
      " 12  Reco_Policy_Premium      50882 non-null  object\n",
      "dtypes: int32(6), object(7)\n",
      "memory usage: 3.9+ MB\n"
     ]
    }
   ],
   "source": [
    "X.info()"
   ]
  },
  {
   "cell_type": "markdown",
   "metadata": {},
   "source": [
    "##  Univariate Selection"
   ]
  },
  {
   "cell_type": "code",
   "execution_count": 12,
   "metadata": {},
   "outputs": [],
   "source": [
    "#apply SelectKBest class to extract top 10 best features\n",
    "best_features=SelectKBest(score_func=chi2,k=10)\n",
    "fit=best_features.fit(X,y)\n",
    "dfscores=pd.DataFrame(fit.scores_)\n",
    "dfcolumns=pd.DataFrame(X.columns)\n"
   ]
  },
  {
   "cell_type": "code",
   "execution_count": 16,
   "metadata": {},
   "outputs": [
    {
     "name": "stdout",
     "output_type": "stream",
     "text": [
      "                      Specs        Scores\n",
      "6                        ID  11483.328483\n",
      "12      Reco_Policy_Premium   9829.942822\n",
      "11          Reco_Policy_Cat   1768.726386\n",
      "7               Region_Code     74.805013\n",
      "5   Holding_Policy_Duration      7.662646\n",
      "2       Reco_Insurance_Type      3.965972\n",
      "8                 Upper_Age      2.612166\n",
      "9                 Lower_Age      1.572930\n",
      "1         Accomodation_Type      0.756115\n",
      "3                 Is_Spouse      0.632296\n",
      "10      Holding_Policy_Type      0.522117\n",
      "4          Health Indicator      0.453390\n",
      "0                 City_Code      0.122643\n"
     ]
    }
   ],
   "source": [
    "#concat two dataframes for better visualization \n",
    "featureScores=pd.concat([dfcolumns,dfscores],axis=1)\n",
    "featureScores.columns=['Specs','Scores']\n",
    "#naming the dataframe columns\n",
    "print(featureScores.nlargest(13,'Scores'))  #print 10 best features"
   ]
  },
  {
   "cell_type": "code",
   "execution_count": 17,
   "metadata": {},
   "outputs": [
    {
     "data": {
      "text/plain": [
       "'\\nFrom here we confirmed that using univariate selection the most important features are\\n1) 12      Reco_Policy_Premium   9829.942822\\n2) 11          Reco_Policy_Cat   1768.726386\\n3) 7               Region_Code     74.805013\\n4) 5   Holding_Policy_Duration      7.662646\\n5) 2       Reco_Insurance_Type      3.965972\\n6) 8                 Upper_Age      2.612166\\n'"
      ]
     },
     "execution_count": 17,
     "metadata": {},
     "output_type": "execute_result"
    }
   ],
   "source": [
    "'''\n",
    "From here we confirmed that using univariate selection the most important features are\n",
    "1) 12      Reco_Policy_Premium   9829.942822\n",
    "2) 11          Reco_Policy_Cat   1768.726386\n",
    "3) 7               Region_Code     74.805013\n",
    "4) 5   Holding_Policy_Duration      7.662646\n",
    "5) 2       Reco_Insurance_Type      3.965972\n",
    "6) 8                 Upper_Age      2.612166\n",
    "'''"
   ]
  },
  {
   "cell_type": "markdown",
   "metadata": {},
   "source": [
    "##  Feature Importance"
   ]
  },
  {
   "cell_type": "code",
   "execution_count": 18,
   "metadata": {},
   "outputs": [
    {
     "data": {
      "text/plain": [
       "ExtraTreesClassifier()"
      ]
     },
     "execution_count": 18,
     "metadata": {},
     "output_type": "execute_result"
    }
   ],
   "source": [
    "from sklearn.ensemble import ExtraTreesClassifier\n",
    "import matplotlib.pyplot as plt\n",
    "model=ExtraTreesClassifier()\n",
    "model.fit(X,y)\n"
   ]
  },
  {
   "cell_type": "code",
   "execution_count": 19,
   "metadata": {},
   "outputs": [
    {
     "name": "stdout",
     "output_type": "stream",
     "text": [
      "[0.10233712 0.01433409 0.00409973 0.00527461 0.07301172 0.06891928\n",
      " 0.13151087 0.13202317 0.0971816  0.0982581  0.03514033 0.1077325\n",
      " 0.13017687]\n"
     ]
    }
   ],
   "source": [
    "#use inbuilt class feature_importances of tree based classifiers\n",
    "print(model.feature_importances_)\n"
   ]
  },
  {
   "cell_type": "code",
   "execution_count": 21,
   "metadata": {},
   "outputs": [
    {
     "data": {
      "image/png": "[encoded data removed]",
      "text/plain": [
       "<Figure size 432x288 with 1 Axes>"
      ]
     },
     "metadata": {
      "needs_background": "light"
     },
     "output_type": "display_data"
    }
   ],
   "source": [
    "\n",
    "#plot graph of feature importances for better visualization\n",
    "feat_importances=pd.Series(model.feature_importances_,index=X.columns)\n",
    "feat_importances.nlargest(13).plot(kind='barh')\n",
    "plt.show()"
   ]
  },
  {
   "cell_type": "code",
   "execution_count": 22,
   "metadata": {},
   "outputs": [
    {
     "data": {
      "text/plain": [
       "'\\nReco_Policy_Premium\\nRegion_Code\\nReco_Policy_Cat\\nUpper_Age\\nHolding_Policy_Duration\\n\\n\\n'"
      ]
     },
     "execution_count": 22,
     "metadata": {},
     "output_type": "execute_result"
    }
   ],
   "source": [
    "# Final Feature selection after these two observations\n",
    "'''\n",
    "Reco_Policy_Premium\n",
    "Region_Code\n",
    "Reco_Policy_Cat\n",
    "Upper_Age\n",
    "Holding_Policy_Duration\n",
    "Reco_Insurance_Type\n",
    "\n",
    "'''"
   ]
  },
  {
   "cell_type": "code",
   "execution_count": null,
   "metadata": {},
   "outputs": [],
   "source": []
  },
  {
   "cell_type": "code",
   "execution_count": null,
   "metadata": {},
   "outputs": [],
   "source": []
  }
 ],
 "metadata": {
  "kernelspec": {
   "display_name": "Python 3",
   "language": "python",
   "name": "python3"
  },
  "language_info": {
   "codemirror_mode": {
    "name": "ipython",
    "version": 3
   },
   "file_extension": ".py",
   "mimetype": "text/x-python",
   "name": "python",
   "nbconvert_exporter": "python",
   "pygments_lexer": "ipython3",
   "version": "3.8.5"
  }
 },
 "nbformat": 4,
 "nbformat_minor": 4
}
