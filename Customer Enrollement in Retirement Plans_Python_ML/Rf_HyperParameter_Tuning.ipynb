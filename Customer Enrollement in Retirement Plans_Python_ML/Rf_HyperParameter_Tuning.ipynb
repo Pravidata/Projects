{
 "cells": [
  {
   "cell_type": "code",
   "execution_count": 1,
   "metadata": {},
   "outputs": [],
   "source": [
    "import numpy as np\n",
    "import pandas as pd\n",
    "\n",
    "df=pd.read_csv('train.csv')\n",
    "df_test=pd.read_csv('test.csv')\n",
    "\n",
    "X=df.iloc[:,:-1]\n",
    "X_test=df_test.iloc[:,:]\n",
    "Y=df.iloc[:,-1]"
   ]
  },
  {
   "cell_type": "code",
   "execution_count": 12,
   "metadata": {},
   "outputs": [],
   "source": [
    "from sklearn.impute import SimpleImputer\n",
    "imp=SimpleImputer(missing_values=np.nan,strategy='most_frequent')\n",
    "X=imp.fit_transform(X)\n",
    "col=X_test.columns\n",
    "X=pd.DataFrame(X,columns=col)"
   ]
  },
  {
   "cell_type": "code",
   "execution_count": 13,
   "metadata": {},
   "outputs": [],
   "source": [
    "X_test=imp.transform(X_test)\n",
    "X_test=pd.DataFrame(X_test,columns=col)"
   ]
  },
  {
   "cell_type": "code",
   "execution_count": 14,
   "metadata": {},
   "outputs": [],
   "source": [
    "cat=['City_Code','Accomodation_Type','Reco_Insurance_Type','Is_Spouse','Health Indicator','Holding_Policy_Duration']\n",
    "num=[i for i in X.columns if i not in cat]"
   ]
  },
  {
   "cell_type": "code",
   "execution_count": 15,
   "metadata": {},
   "outputs": [],
   "source": [
    "X1=X.loc[:,cat]\n",
    "X2=X.loc[:,num]\n",
    "\n",
    "X1_test=X_test.loc[:,cat]\n",
    "X2_test=X_test.loc[:,num]"
   ]
  },
  {
   "cell_type": "code",
   "execution_count": 16,
   "metadata": {},
   "outputs": [],
   "source": [
    "from sklearn.preprocessing import LabelEncoder\n",
    "le=LabelEncoder()\n",
    "X1=X1.apply(le.fit_transform)"
   ]
  },
  {
   "cell_type": "code",
   "execution_count": 17,
   "metadata": {},
   "outputs": [],
   "source": [
    "X1_test=X1_test.apply(LabelEncoder().fit_transform)"
   ]
  },
  {
   "cell_type": "code",
   "execution_count": 18,
   "metadata": {},
   "outputs": [],
   "source": [
    "X=pd.concat([X1,X2],axis=1)"
   ]
  },
  {
   "cell_type": "code",
   "execution_count": 19,
   "metadata": {},
   "outputs": [],
   "source": [
    "X_test=pd.concat([X1_test,X2_test],axis=1)"
   ]
  },
  {
   "cell_type": "code",
   "execution_count": 22,
   "metadata": {},
   "outputs": [
    {
     "data": {
      "text/html": [
       "<div>\n",
       "<style scoped>\n",
       "    .dataframe tbody tr th:only-of-type {\n",
       "        vertical-align: middle;\n",
       "    }\n",
       "\n",
       "    .dataframe tbody tr th {\n",
       "        vertical-align: top;\n",
       "    }\n",
       "\n",
       "    .dataframe thead th {\n",
       "        text-align: right;\n",
       "    }\n",
       "</style>\n",
       "<table border=\"1\" class=\"dataframe\">\n",
       "  <thead>\n",
       "    <tr style=\"text-align: right;\">\n",
       "      <th></th>\n",
       "      <th>City_Code</th>\n",
       "      <th>Accomodation_Type</th>\n",
       "      <th>Reco_Insurance_Type</th>\n",
       "      <th>Is_Spouse</th>\n",
       "      <th>Health Indicator</th>\n",
       "      <th>Holding_Policy_Duration</th>\n",
       "      <th>ID</th>\n",
       "      <th>Region_Code</th>\n",
       "      <th>Lower_Age</th>\n",
       "      <th>Holding_Policy_Type</th>\n",
       "      <th>Reco_Policy_Cat</th>\n",
       "      <th>Reco_Policy_Premium</th>\n",
       "    </tr>\n",
       "  </thead>\n",
       "  <tbody>\n",
       "    <tr>\n",
       "      <th>0</th>\n",
       "      <td>22</td>\n",
       "      <td>1</td>\n",
       "      <td>0</td>\n",
       "      <td>0</td>\n",
       "      <td>0</td>\n",
       "      <td>5</td>\n",
       "      <td>1</td>\n",
       "      <td>3213</td>\n",
       "      <td>36</td>\n",
       "      <td>3</td>\n",
       "      <td>22</td>\n",
       "      <td>11628</td>\n",
       "    </tr>\n",
       "    <tr>\n",
       "      <th>1</th>\n",
       "      <td>31</td>\n",
       "      <td>0</td>\n",
       "      <td>1</td>\n",
       "      <td>0</td>\n",
       "      <td>1</td>\n",
       "      <td>0</td>\n",
       "      <td>2</td>\n",
       "      <td>1117</td>\n",
       "      <td>22</td>\n",
       "      <td>3</td>\n",
       "      <td>22</td>\n",
       "      <td>30510</td>\n",
       "    </tr>\n",
       "    <tr>\n",
       "      <th>2</th>\n",
       "      <td>31</td>\n",
       "      <td>0</td>\n",
       "      <td>0</td>\n",
       "      <td>0</td>\n",
       "      <td>0</td>\n",
       "      <td>0</td>\n",
       "      <td>3</td>\n",
       "      <td>3732</td>\n",
       "      <td>32</td>\n",
       "      <td>1</td>\n",
       "      <td>19</td>\n",
       "      <td>7450</td>\n",
       "    </tr>\n",
       "    <tr>\n",
       "      <th>3</th>\n",
       "      <td>16</td>\n",
       "      <td>0</td>\n",
       "      <td>1</td>\n",
       "      <td>0</td>\n",
       "      <td>0</td>\n",
       "      <td>5</td>\n",
       "      <td>4</td>\n",
       "      <td>4378</td>\n",
       "      <td>48</td>\n",
       "      <td>3</td>\n",
       "      <td>19</td>\n",
       "      <td>17780</td>\n",
       "    </tr>\n",
       "    <tr>\n",
       "      <th>4</th>\n",
       "      <td>34</td>\n",
       "      <td>1</td>\n",
       "      <td>0</td>\n",
       "      <td>0</td>\n",
       "      <td>1</td>\n",
       "      <td>8</td>\n",
       "      <td>5</td>\n",
       "      <td>2190</td>\n",
       "      <td>44</td>\n",
       "      <td>1</td>\n",
       "      <td>16</td>\n",
       "      <td>10404</td>\n",
       "    </tr>\n",
       "  </tbody>\n",
       "</table>\n",
       "</div>"
      ],
      "text/plain": [
       "   City_Code  Accomodation_Type  Reco_Insurance_Type  Is_Spouse  \\\n",
       "0         22                  1                    0          0   \n",
       "1         31                  0                    1          0   \n",
       "2         31                  0                    0          0   \n",
       "3         16                  0                    1          0   \n",
       "4         34                  1                    0          0   \n",
       "\n",
       "   Health Indicator  Holding_Policy_Duration ID Region_Code Lower_Age  \\\n",
       "0                 0                        5  1        3213        36   \n",
       "1                 1                        0  2        1117        22   \n",
       "2                 0                        0  3        3732        32   \n",
       "3                 0                        5  4        4378        48   \n",
       "4                 1                        8  5        2190        44   \n",
       "\n",
       "  Holding_Policy_Type Reco_Policy_Cat Reco_Policy_Premium  \n",
       "0                   3              22               11628  \n",
       "1                   3              22               30510  \n",
       "2                   1              19                7450  \n",
       "3                   3              19               17780  \n",
       "4                   1              16               10404  "
      ]
     },
     "execution_count": 22,
     "metadata": {},
     "output_type": "execute_result"
    }
   ],
   "source": [
    "X.head()"
   ]
  },
  {
   "cell_type": "code",
   "execution_count": 21,
   "metadata": {},
   "outputs": [],
   "source": [
    "X=X.drop(['Upper_Age'],axis=1)"
   ]
  },
  {
   "cell_type": "code",
   "execution_count": 23,
   "metadata": {},
   "outputs": [],
   "source": [
    "X_test=X_test.drop(['Upper_Age'],axis=1)"
   ]
  },
  {
   "cell_type": "code",
   "execution_count": 24,
   "metadata": {},
   "outputs": [],
   "source": [
    "from sklearn.ensemble import RandomForestClassifier\n",
    "reg=RandomForestClassifier(n_estimators=100,random_state=0,oob_score=True)"
   ]
  },
  {
   "cell_type": "code",
   "execution_count": 25,
   "metadata": {},
   "outputs": [
    {
     "data": {
      "text/plain": [
       "RandomForestClassifier(oob_score=True, random_state=0)"
      ]
     },
     "execution_count": 25,
     "metadata": {},
     "output_type": "execute_result"
    }
   ],
   "source": [
    "reg.fit(X,Y)"
   ]
  },
  {
   "cell_type": "code",
   "execution_count": 27,
   "metadata": {},
   "outputs": [],
   "source": [
    "from sklearn.model_selection import GridSearchCV\n",
    "params={'n_estimators':[5,10,25,50,100,200,300],'min_samples_leaf':[1,2,3]}"
   ]
  },
  {
   "cell_type": "code",
   "execution_count": 28,
   "metadata": {},
   "outputs": [],
   "source": [
    "model=GridSearchCV(reg,params,cv=3)"
   ]
  },
  {
   "cell_type": "code",
   "execution_count": 29,
   "metadata": {},
   "outputs": [
    {
     "name": "stderr",
     "output_type": "stream",
     "text": [
      "C:\\ProgramData\\Anaconda3\\lib\\site-packages\\sklearn\\ensemble\\_forest.py:540: UserWarning: Some inputs do not have OOB scores. This probably means too few trees were used to compute any reliable oob estimates.\n",
      "  warn(\"Some inputs do not have OOB scores. \"\n",
      "C:\\ProgramData\\Anaconda3\\lib\\site-packages\\sklearn\\ensemble\\_forest.py:544: RuntimeWarning: invalid value encountered in true_divide\n",
      "  decision = (predictions[k] /\n",
      "C:\\ProgramData\\Anaconda3\\lib\\site-packages\\sklearn\\ensemble\\_forest.py:540: UserWarning: Some inputs do not have OOB scores. This probably means too few trees were used to compute any reliable oob estimates.\n",
      "  warn(\"Some inputs do not have OOB scores. \"\n",
      "C:\\ProgramData\\Anaconda3\\lib\\site-packages\\sklearn\\ensemble\\_forest.py:544: RuntimeWarning: invalid value encountered in true_divide\n",
      "  decision = (predictions[k] /\n",
      "C:\\ProgramData\\Anaconda3\\lib\\site-packages\\sklearn\\ensemble\\_forest.py:540: UserWarning: Some inputs do not have OOB scores. This probably means too few trees were used to compute any reliable oob estimates.\n",
      "  warn(\"Some inputs do not have OOB scores. \"\n",
      "C:\\ProgramData\\Anaconda3\\lib\\site-packages\\sklearn\\ensemble\\_forest.py:544: RuntimeWarning: invalid value encountered in true_divide\n",
      "  decision = (predictions[k] /\n",
      "C:\\ProgramData\\Anaconda3\\lib\\site-packages\\sklearn\\ensemble\\_forest.py:540: UserWarning: Some inputs do not have OOB scores. This probably means too few trees were used to compute any reliable oob estimates.\n",
      "  warn(\"Some inputs do not have OOB scores. \"\n",
      "C:\\ProgramData\\Anaconda3\\lib\\site-packages\\sklearn\\ensemble\\_forest.py:544: RuntimeWarning: invalid value encountered in true_divide\n",
      "  decision = (predictions[k] /\n",
      "C:\\ProgramData\\Anaconda3\\lib\\site-packages\\sklearn\\ensemble\\_forest.py:540: UserWarning: Some inputs do not have OOB scores. This probably means too few trees were used to compute any reliable oob estimates.\n",
      "  warn(\"Some inputs do not have OOB scores. \"\n",
      "C:\\ProgramData\\Anaconda3\\lib\\site-packages\\sklearn\\ensemble\\_forest.py:544: RuntimeWarning: invalid value encountered in true_divide\n",
      "  decision = (predictions[k] /\n",
      "C:\\ProgramData\\Anaconda3\\lib\\site-packages\\sklearn\\ensemble\\_forest.py:540: UserWarning: Some inputs do not have OOB scores. This probably means too few trees were used to compute any reliable oob estimates.\n",
      "  warn(\"Some inputs do not have OOB scores. \"\n",
      "C:\\ProgramData\\Anaconda3\\lib\\site-packages\\sklearn\\ensemble\\_forest.py:544: RuntimeWarning: invalid value encountered in true_divide\n",
      "  decision = (predictions[k] /\n",
      "C:\\ProgramData\\Anaconda3\\lib\\site-packages\\sklearn\\ensemble\\_forest.py:540: UserWarning: Some inputs do not have OOB scores. This probably means too few trees were used to compute any reliable oob estimates.\n",
      "  warn(\"Some inputs do not have OOB scores. \"\n",
      "C:\\ProgramData\\Anaconda3\\lib\\site-packages\\sklearn\\ensemble\\_forest.py:544: RuntimeWarning: invalid value encountered in true_divide\n",
      "  decision = (predictions[k] /\n",
      "C:\\ProgramData\\Anaconda3\\lib\\site-packages\\sklearn\\ensemble\\_forest.py:540: UserWarning: Some inputs do not have OOB scores. This probably means too few trees were used to compute any reliable oob estimates.\n",
      "  warn(\"Some inputs do not have OOB scores. \"\n",
      "C:\\ProgramData\\Anaconda3\\lib\\site-packages\\sklearn\\ensemble\\_forest.py:544: RuntimeWarning: invalid value encountered in true_divide\n",
      "  decision = (predictions[k] /\n",
      "C:\\ProgramData\\Anaconda3\\lib\\site-packages\\sklearn\\ensemble\\_forest.py:540: UserWarning: Some inputs do not have OOB scores. This probably means too few trees were used to compute any reliable oob estimates.\n",
      "  warn(\"Some inputs do not have OOB scores. \"\n",
      "C:\\ProgramData\\Anaconda3\\lib\\site-packages\\sklearn\\ensemble\\_forest.py:544: RuntimeWarning: invalid value encountered in true_divide\n",
      "  decision = (predictions[k] /\n",
      "C:\\ProgramData\\Anaconda3\\lib\\site-packages\\sklearn\\ensemble\\_forest.py:540: UserWarning: Some inputs do not have OOB scores. This probably means too few trees were used to compute any reliable oob estimates.\n",
      "  warn(\"Some inputs do not have OOB scores. \"\n",
      "C:\\ProgramData\\Anaconda3\\lib\\site-packages\\sklearn\\ensemble\\_forest.py:544: RuntimeWarning: invalid value encountered in true_divide\n",
      "  decision = (predictions[k] /\n",
      "C:\\ProgramData\\Anaconda3\\lib\\site-packages\\sklearn\\ensemble\\_forest.py:540: UserWarning: Some inputs do not have OOB scores. This probably means too few trees were used to compute any reliable oob estimates.\n",
      "  warn(\"Some inputs do not have OOB scores. \"\n",
      "C:\\ProgramData\\Anaconda3\\lib\\site-packages\\sklearn\\ensemble\\_forest.py:544: RuntimeWarning: invalid value encountered in true_divide\n",
      "  decision = (predictions[k] /\n",
      "C:\\ProgramData\\Anaconda3\\lib\\site-packages\\sklearn\\ensemble\\_forest.py:540: UserWarning: Some inputs do not have OOB scores. This probably means too few trees were used to compute any reliable oob estimates.\n",
      "  warn(\"Some inputs do not have OOB scores. \"\n",
      "C:\\ProgramData\\Anaconda3\\lib\\site-packages\\sklearn\\ensemble\\_forest.py:544: RuntimeWarning: invalid value encountered in true_divide\n",
      "  decision = (predictions[k] /\n",
      "C:\\ProgramData\\Anaconda3\\lib\\site-packages\\sklearn\\ensemble\\_forest.py:540: UserWarning: Some inputs do not have OOB scores. This probably means too few trees were used to compute any reliable oob estimates.\n",
      "  warn(\"Some inputs do not have OOB scores. \"\n",
      "C:\\ProgramData\\Anaconda3\\lib\\site-packages\\sklearn\\ensemble\\_forest.py:544: RuntimeWarning: invalid value encountered in true_divide\n",
      "  decision = (predictions[k] /\n",
      "C:\\ProgramData\\Anaconda3\\lib\\site-packages\\sklearn\\ensemble\\_forest.py:540: UserWarning: Some inputs do not have OOB scores. This probably means too few trees were used to compute any reliable oob estimates.\n",
      "  warn(\"Some inputs do not have OOB scores. \"\n",
      "C:\\ProgramData\\Anaconda3\\lib\\site-packages\\sklearn\\ensemble\\_forest.py:544: RuntimeWarning: invalid value encountered in true_divide\n",
      "  decision = (predictions[k] /\n",
      "C:\\ProgramData\\Anaconda3\\lib\\site-packages\\sklearn\\ensemble\\_forest.py:540: UserWarning: Some inputs do not have OOB scores. This probably means too few trees were used to compute any reliable oob estimates.\n",
      "  warn(\"Some inputs do not have OOB scores. \"\n",
      "C:\\ProgramData\\Anaconda3\\lib\\site-packages\\sklearn\\ensemble\\_forest.py:544: RuntimeWarning: invalid value encountered in true_divide\n",
      "  decision = (predictions[k] /\n",
      "C:\\ProgramData\\Anaconda3\\lib\\site-packages\\sklearn\\ensemble\\_forest.py:540: UserWarning: Some inputs do not have OOB scores. This probably means too few trees were used to compute any reliable oob estimates.\n",
      "  warn(\"Some inputs do not have OOB scores. \"\n",
      "C:\\ProgramData\\Anaconda3\\lib\\site-packages\\sklearn\\ensemble\\_forest.py:544: RuntimeWarning: invalid value encountered in true_divide\n",
      "  decision = (predictions[k] /\n",
      "C:\\ProgramData\\Anaconda3\\lib\\site-packages\\sklearn\\ensemble\\_forest.py:540: UserWarning: Some inputs do not have OOB scores. This probably means too few trees were used to compute any reliable oob estimates.\n",
      "  warn(\"Some inputs do not have OOB scores. \"\n",
      "C:\\ProgramData\\Anaconda3\\lib\\site-packages\\sklearn\\ensemble\\_forest.py:544: RuntimeWarning: invalid value encountered in true_divide\n",
      "  decision = (predictions[k] /\n",
      "C:\\ProgramData\\Anaconda3\\lib\\site-packages\\sklearn\\ensemble\\_forest.py:540: UserWarning: Some inputs do not have OOB scores. This probably means too few trees were used to compute any reliable oob estimates.\n",
      "  warn(\"Some inputs do not have OOB scores. \"\n",
      "C:\\ProgramData\\Anaconda3\\lib\\site-packages\\sklearn\\ensemble\\_forest.py:544: RuntimeWarning: invalid value encountered in true_divide\n",
      "  decision = (predictions[k] /\n",
      "C:\\ProgramData\\Anaconda3\\lib\\site-packages\\sklearn\\ensemble\\_forest.py:540: UserWarning: Some inputs do not have OOB scores. This probably means too few trees were used to compute any reliable oob estimates.\n",
      "  warn(\"Some inputs do not have OOB scores. \"\n",
      "C:\\ProgramData\\Anaconda3\\lib\\site-packages\\sklearn\\ensemble\\_forest.py:544: RuntimeWarning: invalid value encountered in true_divide\n",
      "  decision = (predictions[k] /\n"
     ]
    }
   ],
   "source": [
    "rf_results=model.fit(X,Y)"
   ]
  },
  {
   "cell_type": "code",
   "execution_count": 30,
   "metadata": {},
   "outputs": [
    {
     "data": {
      "text/plain": [
       "{'min_samples_leaf': 3, 'n_estimators': 5}"
      ]
     },
     "execution_count": 30,
     "metadata": {},
     "output_type": "execute_result"
    }
   ],
   "source": [
    "rf_results.best_params_"
   ]
  },
  {
   "cell_type": "code",
   "execution_count": 31,
   "metadata": {},
   "outputs": [],
   "source": [
    "cv_res=rf_results.cv_results_"
   ]
  },
  {
   "cell_type": "code",
   "execution_count": 32,
   "metadata": {},
   "outputs": [
    {
     "data": {
      "text/plain": [
       "{'mean_fit_time': array([ 0.76175038,  1.47658563,  3.61814451,  7.1266822 , 14.46732569,\n",
       "        28.68239228, 43.48423314,  0.72803108,  1.42199938,  3.45512875,\n",
       "         6.82589904, 13.74769362, 27.89451551, 41.384799  ,  0.71798261,\n",
       "         1.39362669,  3.36660433,  6.56219196, 13.35210125, 26.78932468,\n",
       "        41.63251487]),\n",
       " 'std_fit_time': array([0.04375726, 0.03877064, 0.09126843, 0.13840476, 0.11498728,\n",
       "        0.33707531, 0.67137742, 0.01663686, 0.07411436, 0.07826459,\n",
       "        0.1050551 , 0.21320868, 0.34471218, 0.3940843 , 0.0517462 ,\n",
       "        0.04342061, 0.04258016, 0.11288301, 0.20341278, 0.3335129 ,\n",
       "        1.43195227]),\n",
       " 'mean_score_time': array([0.05141743, 0.06741738, 0.14698688, 0.27474546, 0.52864194,\n",
       "        1.05852302, 1.573349  , 0.04235172, 0.07273173, 0.14538987,\n",
       "        0.27586285, 0.5133276 , 1.00316056, 1.49086388, 0.05459921,\n",
       "        0.07060862, 0.14108109, 0.25419211, 0.50476034, 0.96938213,\n",
       "        1.5769399 ]),\n",
       " 'std_score_time': array([0.01460772, 0.02225568, 0.06790531, 0.1471859 , 0.28630801,\n",
       "        0.55985211, 0.83907673, 0.00895109, 0.03146575, 0.06990503,\n",
       "        0.13394119, 0.26389966, 0.50980047, 0.77953853, 0.01559112,\n",
       "        0.02440932, 0.06019312, 0.11602622, 0.22877721, 0.48019443,\n",
       "        0.64390455]),\n",
       " 'param_min_samples_leaf': masked_array(data=[1, 1, 1, 1, 1, 1, 1, 2, 2, 2, 2, 2, 2, 2, 3, 3, 3, 3,\n",
       "                    3, 3, 3],\n",
       "              mask=[False, False, False, False, False, False, False, False,\n",
       "                    False, False, False, False, False, False, False, False,\n",
       "                    False, False, False, False, False],\n",
       "        fill_value='?',\n",
       "             dtype=object),\n",
       " 'param_n_estimators': masked_array(data=[5, 10, 25, 50, 100, 200, 300, 5, 10, 25, 50, 100, 200,\n",
       "                    300, 5, 10, 25, 50, 100, 200, 300],\n",
       "              mask=[False, False, False, False, False, False, False, False,\n",
       "                    False, False, False, False, False, False, False, False,\n",
       "                    False, False, False, False, False],\n",
       "        fill_value='?',\n",
       "             dtype=object),\n",
       " 'params': [{'min_samples_leaf': 1, 'n_estimators': 5},\n",
       "  {'min_samples_leaf': 1, 'n_estimators': 10},\n",
       "  {'min_samples_leaf': 1, 'n_estimators': 25},\n",
       "  {'min_samples_leaf': 1, 'n_estimators': 50},\n",
       "  {'min_samples_leaf': 1, 'n_estimators': 100},\n",
       "  {'min_samples_leaf': 1, 'n_estimators': 200},\n",
       "  {'min_samples_leaf': 1, 'n_estimators': 300},\n",
       "  {'min_samples_leaf': 2, 'n_estimators': 5},\n",
       "  {'min_samples_leaf': 2, 'n_estimators': 10},\n",
       "  {'min_samples_leaf': 2, 'n_estimators': 25},\n",
       "  {'min_samples_leaf': 2, 'n_estimators': 50},\n",
       "  {'min_samples_leaf': 2, 'n_estimators': 100},\n",
       "  {'min_samples_leaf': 2, 'n_estimators': 200},\n",
       "  {'min_samples_leaf': 2, 'n_estimators': 300},\n",
       "  {'min_samples_leaf': 3, 'n_estimators': 5},\n",
       "  {'min_samples_leaf': 3, 'n_estimators': 10},\n",
       "  {'min_samples_leaf': 3, 'n_estimators': 25},\n",
       "  {'min_samples_leaf': 3, 'n_estimators': 50},\n",
       "  {'min_samples_leaf': 3, 'n_estimators': 100},\n",
       "  {'min_samples_leaf': 3, 'n_estimators': 200},\n",
       "  {'min_samples_leaf': 3, 'n_estimators': 300}],\n",
       " 'split0_test_score': array([0.72077118, 0.76003773, 0.76003773, 0.76003773, 0.76003773,\n",
       "        0.76003773, 0.76003773, 0.74612346, 0.75938919, 0.76009669,\n",
       "        0.76003773, 0.76003773, 0.76003773, 0.76003773, 0.75986086,\n",
       "        0.76003773, 0.76003773, 0.76003773, 0.76003773, 0.76003773,\n",
       "        0.76003773]),\n",
       " 'split1_test_score': array([0.71599552, 0.74547491, 0.75461353, 0.75885856, 0.75915335,\n",
       "        0.75944815, 0.75944815, 0.729615  , 0.74783326, 0.756795  ,\n",
       "        0.75891752, 0.76068628, 0.76009669, 0.75991982, 0.73663109,\n",
       "        0.74871765, 0.75750251, 0.75850481, 0.75974294, 0.76015565,\n",
       "        0.76009669]),\n",
       " 'split2_test_score': array([0.25978774, 0.24133255, 0.24103774, 0.24021226, 0.24009434,\n",
       "        0.24009434, 0.24009434, 0.32458726, 0.28301887, 0.2509434 ,\n",
       "        0.24935142, 0.24221698, 0.24027123, 0.24009434, 0.33325472,\n",
       "        0.30212264, 0.27659198, 0.25666274, 0.24033019, 0.24009434,\n",
       "        0.2401533 ]),\n",
       " 'mean_test_score': array([0.56551815, 0.58228173, 0.58522966, 0.58636952, 0.58642848,\n",
       "        0.58652674, 0.58652674, 0.60010857, 0.59674711, 0.58927836,\n",
       "        0.58943556, 0.587647  , 0.58680188, 0.58668396, 0.60991556,\n",
       "        0.60362601, 0.59804407, 0.59173509, 0.58670362, 0.58676257,\n",
       "        0.58676258]),\n",
       " 'std_test_score': array([0.21619284, 0.24116077, 0.24339052, 0.24477062, 0.24489548,\n",
       "        0.24496482, 0.24496482, 0.19493952, 0.22188952, 0.23924275,\n",
       "        0.24047624, 0.24425605, 0.24503418, 0.24507588, 0.19585849,\n",
       "        0.21324516, 0.22730331, 0.23693276, 0.24492303, 0.24513146,\n",
       "        0.24508977]),\n",
       " 'rank_test_score': array([21, 20, 19, 18, 17, 15, 15,  3,  5,  8,  7,  9, 10, 14,  1,  2,  4,\n",
       "         6, 13, 12, 11])}"
      ]
     },
     "execution_count": 32,
     "metadata": {},
     "output_type": "execute_result"
    }
   ],
   "source": [
    "cv_res"
   ]
  },
  {
   "cell_type": "code",
   "execution_count": 33,
   "metadata": {},
   "outputs": [],
   "source": [
    "reg1=RandomForestClassifier(n_estimators=5,random_state=0,oob_score=True,min_samples_leaf=3)"
   ]
  },
  {
   "cell_type": "code",
   "execution_count": 34,
   "metadata": {},
   "outputs": [
    {
     "name": "stderr",
     "output_type": "stream",
     "text": [
      "C:\\ProgramData\\Anaconda3\\lib\\site-packages\\sklearn\\ensemble\\_forest.py:540: UserWarning: Some inputs do not have OOB scores. This probably means too few trees were used to compute any reliable oob estimates.\n",
      "  warn(\"Some inputs do not have OOB scores. \"\n",
      "C:\\ProgramData\\Anaconda3\\lib\\site-packages\\sklearn\\ensemble\\_forest.py:544: RuntimeWarning: invalid value encountered in true_divide\n",
      "  decision = (predictions[k] /\n"
     ]
    },
    {
     "data": {
      "text/plain": [
       "RandomForestClassifier(min_samples_leaf=3, n_estimators=5, oob_score=True,\n",
       "                       random_state=0)"
      ]
     },
     "execution_count": 34,
     "metadata": {},
     "output_type": "execute_result"
    }
   ],
   "source": [
    "reg1.fit(X,Y)"
   ]
  },
  {
   "cell_type": "code",
   "execution_count": 35,
   "metadata": {},
   "outputs": [
    {
     "data": {
      "text/plain": [
       "0.8774615777681695"
      ]
     },
     "execution_count": 35,
     "metadata": {},
     "output_type": "execute_result"
    }
   ],
   "source": [
    "reg1.score(X,Y)"
   ]
  },
  {
   "cell_type": "code",
   "execution_count": 36,
   "metadata": {},
   "outputs": [
    {
     "data": {
      "text/plain": [
       "0.7042765614559177"
      ]
     },
     "execution_count": 36,
     "metadata": {},
     "output_type": "execute_result"
    }
   ],
   "source": [
    "reg1.oob_score_"
   ]
  },
  {
   "cell_type": "markdown",
   "metadata": {},
   "source": [
    "###  Predicting values"
   ]
  },
  {
   "cell_type": "code",
   "execution_count": 37,
   "metadata": {},
   "outputs": [],
   "source": [
    "Y_test_pred_1=reg1.predict(X_test)"
   ]
  },
  {
   "cell_type": "code",
   "execution_count": 41,
   "metadata": {},
   "outputs": [
    {
     "data": {
      "text/plain": [
       "array([0, 0, 0, 1, 0], dtype=int64)"
      ]
     },
     "execution_count": 41,
     "metadata": {},
     "output_type": "execute_result"
    }
   ],
   "source": [
    "Y_test_pred_1[:5]"
   ]
  },
  {
   "cell_type": "code",
   "execution_count": 42,
   "metadata": {},
   "outputs": [],
   "source": [
    "id=pd.DataFrame(df_test.ID,columns=['ID'])"
   ]
  },
  {
   "cell_type": "code",
   "execution_count": 43,
   "metadata": {},
   "outputs": [],
   "source": [
    "respo=pd.DataFrame(Y_test_pred_1,columns=['Response'])"
   ]
  },
  {
   "cell_type": "code",
   "execution_count": 44,
   "metadata": {},
   "outputs": [],
   "source": [
    "pred=pd.concat([id,respo],axis=1)"
   ]
  },
  {
   "cell_type": "code",
   "execution_count": 45,
   "metadata": {},
   "outputs": [
    {
     "data": {
      "text/html": [
       "<div>\n",
       "<style scoped>\n",
       "    .dataframe tbody tr th:only-of-type {\n",
       "        vertical-align: middle;\n",
       "    }\n",
       "\n",
       "    .dataframe tbody tr th {\n",
       "        vertical-align: top;\n",
       "    }\n",
       "\n",
       "    .dataframe thead th {\n",
       "        text-align: right;\n",
       "    }\n",
       "</style>\n",
       "<table border=\"1\" class=\"dataframe\">\n",
       "  <thead>\n",
       "    <tr style=\"text-align: right;\">\n",
       "      <th></th>\n",
       "      <th>ID</th>\n",
       "      <th>Response</th>\n",
       "    </tr>\n",
       "  </thead>\n",
       "  <tbody>\n",
       "    <tr>\n",
       "      <th>0</th>\n",
       "      <td>50883</td>\n",
       "      <td>0</td>\n",
       "    </tr>\n",
       "    <tr>\n",
       "      <th>1</th>\n",
       "      <td>50884</td>\n",
       "      <td>0</td>\n",
       "    </tr>\n",
       "    <tr>\n",
       "      <th>2</th>\n",
       "      <td>50885</td>\n",
       "      <td>0</td>\n",
       "    </tr>\n",
       "    <tr>\n",
       "      <th>3</th>\n",
       "      <td>50886</td>\n",
       "      <td>1</td>\n",
       "    </tr>\n",
       "    <tr>\n",
       "      <th>4</th>\n",
       "      <td>50887</td>\n",
       "      <td>0</td>\n",
       "    </tr>\n",
       "  </tbody>\n",
       "</table>\n",
       "</div>"
      ],
      "text/plain": [
       "      ID  Response\n",
       "0  50883         0\n",
       "1  50884         0\n",
       "2  50885         0\n",
       "3  50886         1\n",
       "4  50887         0"
      ]
     },
     "execution_count": 45,
     "metadata": {},
     "output_type": "execute_result"
    }
   ],
   "source": [
    "pred.head()"
   ]
  },
  {
   "cell_type": "code",
   "execution_count": 46,
   "metadata": {},
   "outputs": [],
   "source": [
    "filename='Submission3.csv'\n",
    "pred.to_csv(filename,index=False)"
   ]
  },
  {
   "cell_type": "code",
   "execution_count": null,
   "metadata": {},
   "outputs": [],
   "source": []
  }
 ],
 "metadata": {
  "kernelspec": {
   "display_name": "Python 3",
   "language": "python",
   "name": "python3"
  },
  "language_info": {
   "codemirror_mode": {
    "name": "ipython",
    "version": 3
   },
   "file_extension": ".py",
   "mimetype": "text/x-python",
   "name": "python",
   "nbconvert_exporter": "python",
   "pygments_lexer": "ipython3",
   "version": "3.8.5"
  }
 },
 "nbformat": 4,
 "nbformat_minor": 4
}
